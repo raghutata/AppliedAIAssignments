{
  "nbformat": 4,
  "nbformat_minor": 0,
  "metadata": {
    "colab": {
      "name": "Ass2_pandas_basics_practice.ipynb",
      "provenance": [],
      "collapsed_sections": [],
      "authorship_tag": "ABX9TyOC7ZCPo4dv5v21vtmY6vgv",
      "include_colab_link": true
    },
    "kernelspec": {
      "name": "python3",
      "display_name": "Python 3"
    },
    "language_info": {
      "name": "python"
    }
  },
  "cells": [
    {
      "cell_type": "markdown",
      "metadata": {
        "id": "view-in-github",
        "colab_type": "text"
      },
      "source": [
        "<a href=\"https://colab.research.google.com/github/raghutata/AppliedAIAssignments/blob/main/Ass2_pandas_basics_practice.ipynb\" target=\"_parent\"><img src=\"https://colab.research.google.com/assets/colab-badge.svg\" alt=\"Open In Colab\"/></a>"
      ]
    },
    {
      "cell_type": "markdown",
      "metadata": {
        "id": "li7CFOqIFzoN"
      },
      "source": [
        "**Consider the following Python dictionary data and Python list labels:**\n",
        "\n",
        "data = {'birds': ['Cranes', 'Cranes', 'plovers', 'spoonbills', 'spoonbills', 'Cranes', 'plovers', 'Cranes', 'spoonbills', 'spoonbills'],\n",
        "        'age': [3.5, 4, 1.5, np.nan, 6, 3, 5.5, np.nan, 8, 4],\n",
        "        'visits': [2, 4, 3, 4, 3, 4, 2, 2, 3, 2],\n",
        "        'priority': ['yes', 'yes', 'no', 'yes', 'no', 'no', 'no', 'yes', 'no', 'no']}\n",
        "\n",
        "labels = ['a', 'b', 'c', 'd', 'e', 'f', 'g', 'h', 'i', 'j']\n"
      ]
    },
    {
      "cell_type": "code",
      "metadata": {
        "id": "oBByPnHDGEpf"
      },
      "source": [
        "#initializing pandas and numpy as it is gonna be used everywhere\n",
        "import pandas as pd\n",
        "import numpy as np\n",
        "\n",
        "#initializing data\n",
        "data = {'birds': ['Cranes', 'Cranes', 'plovers', 'spoonbills', 'spoonbills', 'Cranes', 'plovers', 'Cranes', 'spoonbills', 'spoonbills'], 'age': [3.5, 4, 1.5, np.nan, 6, 3, 5.5, np.nan, 8, 4], 'visits': [2, 4, 3, 4, 3, 4, 2, 2, 3, 2], 'priority': ['yes', 'yes', 'no', 'yes', 'no', 'no', 'no', 'yes', 'no', 'no']}\n",
        "\n",
        "labels = ['a', 'b', 'c', 'd', 'e', 'f', 'g', 'h', 'i', 'j']"
      ],
      "execution_count": 152,
      "outputs": []
    },
    {
      "cell_type": "markdown",
      "metadata": {
        "id": "mYQnmMSAF-na"
      },
      "source": [
        "**1. Create a DataFrame birds from this dictionary data which has the index labels.**"
      ]
    },
    {
      "cell_type": "code",
      "metadata": {
        "colab": {
          "base_uri": "https://localhost:8080/"
        },
        "id": "WxeNkMfLGA8a",
        "outputId": "696c0ab3-b00a-4185-89b7-7cfe396b58f5"
      },
      "source": [
        "birds = pd.DataFrame(data['birds'],labels)\n",
        "print(birds)"
      ],
      "execution_count": 153,
      "outputs": [
        {
          "output_type": "stream",
          "text": [
            "            0\n",
            "a      Cranes\n",
            "b      Cranes\n",
            "c     plovers\n",
            "d  spoonbills\n",
            "e  spoonbills\n",
            "f      Cranes\n",
            "g     plovers\n",
            "h      Cranes\n",
            "i  spoonbills\n",
            "j  spoonbills\n"
          ],
          "name": "stdout"
        }
      ]
    },
    {
      "cell_type": "markdown",
      "metadata": {
        "id": "KrhYzguWVSr-"
      },
      "source": [
        "**2. Display a summary of the basic information about birds DataFrame and its data.**"
      ]
    },
    {
      "cell_type": "code",
      "metadata": {
        "colab": {
          "base_uri": "https://localhost:8080/"
        },
        "id": "BXIFpVCqVWJ6",
        "outputId": "56147ed8-ebce-41ab-a49f-434f87c27bbb"
      },
      "source": [
        "# Considering that basic information here means describe method\n",
        "df = pd.DataFrame(data)\n",
        "print(df.describe())"
      ],
      "execution_count": 154,
      "outputs": [
        {
          "output_type": "stream",
          "text": [
            "            age     visits\n",
            "count  8.000000  10.000000\n",
            "mean   4.437500   2.900000\n",
            "std    2.007797   0.875595\n",
            "min    1.500000   2.000000\n",
            "25%    3.375000   2.000000\n",
            "50%    4.000000   3.000000\n",
            "75%    5.625000   3.750000\n",
            "max    8.000000   4.000000\n"
          ],
          "name": "stdout"
        }
      ]
    },
    {
      "cell_type": "markdown",
      "metadata": {
        "id": "5Pv5T-tsXHPo"
      },
      "source": [
        "**3. Print the first 2 rows of the birds dataframe**"
      ]
    },
    {
      "cell_type": "code",
      "metadata": {
        "colab": {
          "base_uri": "https://localhost:8080/"
        },
        "id": "Twqn_qoIXMyK",
        "outputId": "262e9513-1909-4f58-84b9-566a9abe7fb2"
      },
      "source": [
        "birds_rows = df['birds'][:2]\n",
        "print(birds_rows)"
      ],
      "execution_count": 155,
      "outputs": [
        {
          "output_type": "stream",
          "text": [
            "0    Cranes\n",
            "1    Cranes\n",
            "Name: birds, dtype: object\n"
          ],
          "name": "stdout"
        }
      ]
    },
    {
      "cell_type": "markdown",
      "metadata": {
        "id": "lq1gYfAAXqJ0"
      },
      "source": [
        "**4. Print all the rows with only 'birds' and 'age' columns from the dataframe**"
      ]
    },
    {
      "cell_type": "code",
      "metadata": {
        "colab": {
          "base_uri": "https://localhost:8080/"
        },
        "id": "v8VfJTdgXs2_",
        "outputId": "f300f2f8-96fe-4107-8104-bd9f2cc21021"
      },
      "source": [
        "birds_age_rows=df[['birds','age']]\n",
        "print(birds_age_rows)"
      ],
      "execution_count": 156,
      "outputs": [
        {
          "output_type": "stream",
          "text": [
            "        birds  age\n",
            "0      Cranes  3.5\n",
            "1      Cranes  4.0\n",
            "2     plovers  1.5\n",
            "3  spoonbills  NaN\n",
            "4  spoonbills  6.0\n",
            "5      Cranes  3.0\n",
            "6     plovers  5.5\n",
            "7      Cranes  NaN\n",
            "8  spoonbills  8.0\n",
            "9  spoonbills  4.0\n"
          ],
          "name": "stdout"
        }
      ]
    },
    {
      "cell_type": "markdown",
      "metadata": {
        "id": "w6K36779X_GY"
      },
      "source": [
        "**5. select [2, 3, 7] rows and in columns ['birds', 'age', 'visits']**"
      ]
    },
    {
      "cell_type": "code",
      "metadata": {
        "colab": {
          "base_uri": "https://localhost:8080/"
        },
        "id": "-9EOML2oYBtl",
        "outputId": "224c79fe-b63b-408c-9ce6-a2fd809606c5"
      },
      "source": [
        "birds_age_visits_rows= df[['birds','age','visits']]\n",
        "birds_age_visits_rows = pd.DataFrame(birds_age_visits_rows.values[[2,3,7]],columns=['birds','age','visits'])\n",
        "print(birds_age_visits_rows)"
      ],
      "execution_count": 157,
      "outputs": [
        {
          "output_type": "stream",
          "text": [
            "        birds  age visits\n",
            "0     plovers  1.5      3\n",
            "1  spoonbills  NaN      4\n",
            "2      Cranes  NaN      2\n"
          ],
          "name": "stdout"
        }
      ]
    },
    {
      "cell_type": "markdown",
      "metadata": {
        "id": "IuKAvs9qaBBF"
      },
      "source": [
        "**6. select the rows where the number of visits is less than 4**"
      ]
    },
    {
      "cell_type": "code",
      "metadata": {
        "colab": {
          "base_uri": "https://localhost:8080/",
          "height": 266
        },
        "id": "HWGgREacaGRG",
        "outputId": "76998d1a-86c8-4c4c-b0a9-63aa0896dc6d"
      },
      "source": [
        "#Considering all columns have to be returned with visits less than 4\n",
        "df[df['visits']<4]"
      ],
      "execution_count": 158,
      "outputs": [
        {
          "output_type": "execute_result",
          "data": {
            "text/html": [
              "<div>\n",
              "<style scoped>\n",
              "    .dataframe tbody tr th:only-of-type {\n",
              "        vertical-align: middle;\n",
              "    }\n",
              "\n",
              "    .dataframe tbody tr th {\n",
              "        vertical-align: top;\n",
              "    }\n",
              "\n",
              "    .dataframe thead th {\n",
              "        text-align: right;\n",
              "    }\n",
              "</style>\n",
              "<table border=\"1\" class=\"dataframe\">\n",
              "  <thead>\n",
              "    <tr style=\"text-align: right;\">\n",
              "      <th></th>\n",
              "      <th>birds</th>\n",
              "      <th>age</th>\n",
              "      <th>visits</th>\n",
              "      <th>priority</th>\n",
              "    </tr>\n",
              "  </thead>\n",
              "  <tbody>\n",
              "    <tr>\n",
              "      <th>0</th>\n",
              "      <td>Cranes</td>\n",
              "      <td>3.5</td>\n",
              "      <td>2</td>\n",
              "      <td>yes</td>\n",
              "    </tr>\n",
              "    <tr>\n",
              "      <th>2</th>\n",
              "      <td>plovers</td>\n",
              "      <td>1.5</td>\n",
              "      <td>3</td>\n",
              "      <td>no</td>\n",
              "    </tr>\n",
              "    <tr>\n",
              "      <th>4</th>\n",
              "      <td>spoonbills</td>\n",
              "      <td>6.0</td>\n",
              "      <td>3</td>\n",
              "      <td>no</td>\n",
              "    </tr>\n",
              "    <tr>\n",
              "      <th>6</th>\n",
              "      <td>plovers</td>\n",
              "      <td>5.5</td>\n",
              "      <td>2</td>\n",
              "      <td>no</td>\n",
              "    </tr>\n",
              "    <tr>\n",
              "      <th>7</th>\n",
              "      <td>Cranes</td>\n",
              "      <td>NaN</td>\n",
              "      <td>2</td>\n",
              "      <td>yes</td>\n",
              "    </tr>\n",
              "    <tr>\n",
              "      <th>8</th>\n",
              "      <td>spoonbills</td>\n",
              "      <td>8.0</td>\n",
              "      <td>3</td>\n",
              "      <td>no</td>\n",
              "    </tr>\n",
              "    <tr>\n",
              "      <th>9</th>\n",
              "      <td>spoonbills</td>\n",
              "      <td>4.0</td>\n",
              "      <td>2</td>\n",
              "      <td>no</td>\n",
              "    </tr>\n",
              "  </tbody>\n",
              "</table>\n",
              "</div>"
            ],
            "text/plain": [
              "        birds  age  visits priority\n",
              "0      Cranes  3.5       2      yes\n",
              "2     plovers  1.5       3       no\n",
              "4  spoonbills  6.0       3       no\n",
              "6     plovers  5.5       2       no\n",
              "7      Cranes  NaN       2      yes\n",
              "8  spoonbills  8.0       3       no\n",
              "9  spoonbills  4.0       2       no"
            ]
          },
          "metadata": {
            "tags": []
          },
          "execution_count": 158
        }
      ]
    },
    {
      "cell_type": "markdown",
      "metadata": {
        "id": "1RrReW3oalk4"
      },
      "source": [
        "**7. select the rows with columns ['birds', 'visits'] where the age is missing i.e NaN**"
      ]
    },
    {
      "cell_type": "code",
      "metadata": {
        "colab": {
          "base_uri": "https://localhost:8080/",
          "height": 111
        },
        "id": "vqqKaHutata9",
        "outputId": "ef542870-30eb-4b55-938b-fdca2c80ad2a"
      },
      "source": [
        "df[df['age'].isna()][['birds','visits']]"
      ],
      "execution_count": 159,
      "outputs": [
        {
          "output_type": "execute_result",
          "data": {
            "text/html": [
              "<div>\n",
              "<style scoped>\n",
              "    .dataframe tbody tr th:only-of-type {\n",
              "        vertical-align: middle;\n",
              "    }\n",
              "\n",
              "    .dataframe tbody tr th {\n",
              "        vertical-align: top;\n",
              "    }\n",
              "\n",
              "    .dataframe thead th {\n",
              "        text-align: right;\n",
              "    }\n",
              "</style>\n",
              "<table border=\"1\" class=\"dataframe\">\n",
              "  <thead>\n",
              "    <tr style=\"text-align: right;\">\n",
              "      <th></th>\n",
              "      <th>birds</th>\n",
              "      <th>visits</th>\n",
              "    </tr>\n",
              "  </thead>\n",
              "  <tbody>\n",
              "    <tr>\n",
              "      <th>3</th>\n",
              "      <td>spoonbills</td>\n",
              "      <td>4</td>\n",
              "    </tr>\n",
              "    <tr>\n",
              "      <th>7</th>\n",
              "      <td>Cranes</td>\n",
              "      <td>2</td>\n",
              "    </tr>\n",
              "  </tbody>\n",
              "</table>\n",
              "</div>"
            ],
            "text/plain": [
              "        birds  visits\n",
              "3  spoonbills       4\n",
              "7      Cranes       2"
            ]
          },
          "metadata": {
            "tags": []
          },
          "execution_count": 159
        }
      ]
    },
    {
      "cell_type": "markdown",
      "metadata": {
        "id": "pAwViuRgcfxG"
      },
      "source": [
        "**8. Select the rows where the birds is a Cranes and the age is less than 4**"
      ]
    },
    {
      "cell_type": "code",
      "metadata": {
        "colab": {
          "base_uri": "https://localhost:8080/"
        },
        "id": "TFxHDQSqcjwD",
        "outputId": "c9cb88fa-43f5-406d-db7c-9b459f84188e"
      },
      "source": [
        "#Considering nan values is also ignored in age column\n",
        "crane_rows=df.groupby('birds').get_group('Cranes')\n",
        "print(crane_rows[crane_rows['age']<4]) "
      ],
      "execution_count": 160,
      "outputs": [
        {
          "output_type": "stream",
          "text": [
            "    birds  age  visits priority\n",
            "0  Cranes  3.5       2      yes\n",
            "5  Cranes  3.0       4       no\n"
          ],
          "name": "stdout"
        }
      ]
    },
    {
      "cell_type": "markdown",
      "metadata": {
        "id": "j716LLgadmH8"
      },
      "source": [
        "**9. Select the rows the age is between 2 and 4(inclusive)**"
      ]
    },
    {
      "cell_type": "code",
      "metadata": {
        "colab": {
          "base_uri": "https://localhost:8080/",
          "height": 173
        },
        "id": "lJv9C2VddpJ9",
        "outputId": "53d9fbd7-8876-4ddd-91a5-7d9fbed62395"
      },
      "source": [
        "df[(df['age']>=2) & (df['age']<=4)]\n"
      ],
      "execution_count": 161,
      "outputs": [
        {
          "output_type": "execute_result",
          "data": {
            "text/html": [
              "<div>\n",
              "<style scoped>\n",
              "    .dataframe tbody tr th:only-of-type {\n",
              "        vertical-align: middle;\n",
              "    }\n",
              "\n",
              "    .dataframe tbody tr th {\n",
              "        vertical-align: top;\n",
              "    }\n",
              "\n",
              "    .dataframe thead th {\n",
              "        text-align: right;\n",
              "    }\n",
              "</style>\n",
              "<table border=\"1\" class=\"dataframe\">\n",
              "  <thead>\n",
              "    <tr style=\"text-align: right;\">\n",
              "      <th></th>\n",
              "      <th>birds</th>\n",
              "      <th>age</th>\n",
              "      <th>visits</th>\n",
              "      <th>priority</th>\n",
              "    </tr>\n",
              "  </thead>\n",
              "  <tbody>\n",
              "    <tr>\n",
              "      <th>0</th>\n",
              "      <td>Cranes</td>\n",
              "      <td>3.5</td>\n",
              "      <td>2</td>\n",
              "      <td>yes</td>\n",
              "    </tr>\n",
              "    <tr>\n",
              "      <th>1</th>\n",
              "      <td>Cranes</td>\n",
              "      <td>4.0</td>\n",
              "      <td>4</td>\n",
              "      <td>yes</td>\n",
              "    </tr>\n",
              "    <tr>\n",
              "      <th>5</th>\n",
              "      <td>Cranes</td>\n",
              "      <td>3.0</td>\n",
              "      <td>4</td>\n",
              "      <td>no</td>\n",
              "    </tr>\n",
              "    <tr>\n",
              "      <th>9</th>\n",
              "      <td>spoonbills</td>\n",
              "      <td>4.0</td>\n",
              "      <td>2</td>\n",
              "      <td>no</td>\n",
              "    </tr>\n",
              "  </tbody>\n",
              "</table>\n",
              "</div>"
            ],
            "text/plain": [
              "        birds  age  visits priority\n",
              "0      Cranes  3.5       2      yes\n",
              "1      Cranes  4.0       4      yes\n",
              "5      Cranes  3.0       4       no\n",
              "9  spoonbills  4.0       2       no"
            ]
          },
          "metadata": {
            "tags": []
          },
          "execution_count": 161
        }
      ]
    },
    {
      "cell_type": "markdown",
      "metadata": {
        "id": "S4rlEgl1AGHk"
      },
      "source": [
        "**10. Find the total number of visits of the bird Cranes**"
      ]
    },
    {
      "cell_type": "code",
      "metadata": {
        "colab": {
          "base_uri": "https://localhost:8080/"
        },
        "id": "IxE_jbWyAHTf",
        "outputId": "6228cbad-620e-413f-892b-8c72c96380dd"
      },
      "source": [
        "crane_rows=df.groupby('birds').get_group('Cranes')\n",
        "print(crane_rows['visits'].sum())"
      ],
      "execution_count": 162,
      "outputs": [
        {
          "output_type": "stream",
          "text": [
            "12\n"
          ],
          "name": "stdout"
        }
      ]
    },
    {
      "cell_type": "markdown",
      "metadata": {
        "id": "KaLrAdQvAXwR"
      },
      "source": [
        "**11. Calculate the mean age for each different birds in dataframe.**"
      ]
    },
    {
      "cell_type": "code",
      "metadata": {
        "colab": {
          "base_uri": "https://localhost:8080/"
        },
        "id": "nBK786eXAbci",
        "outputId": "493a7a8d-1c76-4292-b484-93d231339075"
      },
      "source": [
        "birds_rows = df.groupby('birds').mean()\n",
        "print(birds_rows['age'])"
      ],
      "execution_count": 163,
      "outputs": [
        {
          "output_type": "stream",
          "text": [
            "birds\n",
            "Cranes        3.5\n",
            "plovers       3.5\n",
            "spoonbills    6.0\n",
            "Name: age, dtype: float64\n"
          ],
          "name": "stdout"
        }
      ]
    },
    {
      "cell_type": "markdown",
      "metadata": {
        "id": "MKNSpqZeCx2d"
      },
      "source": [
        "**12. Append a new row 'k' to dataframe with your choice of values for each column. Then delete that row to return the original DataFrame.**"
      ]
    },
    {
      "cell_type": "code",
      "metadata": {
        "colab": {
          "base_uri": "https://localhost:8080/"
        },
        "id": "dMpRZtsiC2gE",
        "outputId": "bf3ffc22-627f-47db-9c99-f56dc49837b2"
      },
      "source": [
        "#Reference taken from- https://www.geeksforgeeks.org/python-delete-rows-columns-from-dataframe-using-pandas-drop/\n",
        "#Adding the row\n",
        "df.loc[len(df.index)] = ['Crow',5.0,3,\"yes\"]\n",
        "print(\"Adding\")\n",
        "print(df)\n",
        "\n",
        "#Removing row\n",
        "print(\"Removing\")\n",
        "df.drop(index=len(df.index)-1,inplace=True)\n",
        "print(df)"
      ],
      "execution_count": 164,
      "outputs": [
        {
          "output_type": "stream",
          "text": [
            "Adding\n",
            "         birds  age  visits priority\n",
            "0       Cranes  3.5       2      yes\n",
            "1       Cranes  4.0       4      yes\n",
            "2      plovers  1.5       3       no\n",
            "3   spoonbills  NaN       4      yes\n",
            "4   spoonbills  6.0       3       no\n",
            "5       Cranes  3.0       4       no\n",
            "6      plovers  5.5       2       no\n",
            "7       Cranes  NaN       2      yes\n",
            "8   spoonbills  8.0       3       no\n",
            "9   spoonbills  4.0       2       no\n",
            "10        Crow  5.0       3      yes\n",
            "Removing\n",
            "        birds  age  visits priority\n",
            "0      Cranes  3.5       2      yes\n",
            "1      Cranes  4.0       4      yes\n",
            "2     plovers  1.5       3       no\n",
            "3  spoonbills  NaN       4      yes\n",
            "4  spoonbills  6.0       3       no\n",
            "5      Cranes  3.0       4       no\n",
            "6     plovers  5.5       2       no\n",
            "7      Cranes  NaN       2      yes\n",
            "8  spoonbills  8.0       3       no\n",
            "9  spoonbills  4.0       2       no\n"
          ],
          "name": "stdout"
        }
      ]
    },
    {
      "cell_type": "markdown",
      "metadata": {
        "id": "96IINXQFGdqx"
      },
      "source": [
        "**13. Find the number of each type of birds in dataframe (Counts)**"
      ]
    },
    {
      "cell_type": "code",
      "metadata": {
        "colab": {
          "base_uri": "https://localhost:8080/"
        },
        "id": "lJHJIqW4Gf2J",
        "outputId": "2eb66200-77f0-472a-a54d-2f57bd00c93a"
      },
      "source": [
        "print(df['birds'].value_counts())\n"
      ],
      "execution_count": 165,
      "outputs": [
        {
          "output_type": "stream",
          "text": [
            "spoonbills    4\n",
            "Cranes        4\n",
            "plovers       2\n",
            "Name: birds, dtype: int64\n"
          ],
          "name": "stdout"
        }
      ]
    },
    {
      "cell_type": "markdown",
      "metadata": {
        "id": "SJyXMTKVHvDm"
      },
      "source": [
        "**14. Sort dataframe (birds) first by the values in the 'age' in decending order, then by the value in the 'visits' column in ascending order.**"
      ]
    },
    {
      "cell_type": "code",
      "metadata": {
        "colab": {
          "base_uri": "https://localhost:8080/"
        },
        "id": "4QhNpmQKHxx0",
        "outputId": "f4a3d2ed-553d-4ff8-a0e2-55d651d96370"
      },
      "source": [
        "#Descending by age\n",
        "bird_rows=df.sort_values('age',ascending=False)\n",
        "print(bird_rows['birds'])\n",
        "\n",
        "#Ascending by visits\n",
        "bird_rows=df.sort_values('visits')\n",
        "print(bird_rows['birds'])\n"
      ],
      "execution_count": 166,
      "outputs": [
        {
          "output_type": "stream",
          "text": [
            "8    spoonbills\n",
            "4    spoonbills\n",
            "6       plovers\n",
            "1        Cranes\n",
            "9    spoonbills\n",
            "0        Cranes\n",
            "5        Cranes\n",
            "2       plovers\n",
            "3    spoonbills\n",
            "7        Cranes\n",
            "Name: birds, dtype: object\n",
            "0        Cranes\n",
            "6       plovers\n",
            "7        Cranes\n",
            "9    spoonbills\n",
            "2       plovers\n",
            "4    spoonbills\n",
            "8    spoonbills\n",
            "1        Cranes\n",
            "3    spoonbills\n",
            "5        Cranes\n",
            "Name: birds, dtype: object\n"
          ],
          "name": "stdout"
        }
      ]
    },
    {
      "cell_type": "markdown",
      "metadata": {
        "id": "KCjawuE1acQP"
      },
      "source": [
        "**15. Replace the priority column values with'yes' should be 1 and 'no' should be 0**"
      ]
    },
    {
      "cell_type": "code",
      "metadata": {
        "colab": {
          "base_uri": "https://localhost:8080/"
        },
        "id": "Q4aBOPMmaeZk",
        "outputId": "20c117d2-0820-40af-f03e-9fb75bdb07b5"
      },
      "source": [
        "#Reference - https://www.geeksforgeeks.org/replace-the-column-contains-the-values-yes-and-no-with-true-and-false-in-python-pandas/\n",
        "df['priority'] = df['priority'].map(\n",
        "                   {'yes':1 ,'no':0})\n",
        "print(df)\n"
      ],
      "execution_count": 167,
      "outputs": [
        {
          "output_type": "stream",
          "text": [
            "        birds  age  visits  priority\n",
            "0      Cranes  3.5       2         1\n",
            "1      Cranes  4.0       4         1\n",
            "2     plovers  1.5       3         0\n",
            "3  spoonbills  NaN       4         1\n",
            "4  spoonbills  6.0       3         0\n",
            "5      Cranes  3.0       4         0\n",
            "6     plovers  5.5       2         0\n",
            "7      Cranes  NaN       2         1\n",
            "8  spoonbills  8.0       3         0\n",
            "9  spoonbills  4.0       2         0\n"
          ],
          "name": "stdout"
        }
      ]
    },
    {
      "cell_type": "markdown",
      "metadata": {
        "id": "iZa7n3Wxbv0Q"
      },
      "source": [
        "**16. In the 'birds' column, change the 'Cranes' entries to 'trumpeters'.**"
      ]
    },
    {
      "cell_type": "code",
      "metadata": {
        "colab": {
          "base_uri": "https://localhost:8080/",
          "height": 359
        },
        "id": "iNW9tXXmb8Vy",
        "outputId": "7da6da3f-90c4-4dc5-c6de-4608a4e88cb1"
      },
      "source": [
        "df['birds']= df['birds'].replace('Cranes','trumpeters')\n",
        "df"
      ],
      "execution_count": 168,
      "outputs": [
        {
          "output_type": "execute_result",
          "data": {
            "text/html": [
              "<div>\n",
              "<style scoped>\n",
              "    .dataframe tbody tr th:only-of-type {\n",
              "        vertical-align: middle;\n",
              "    }\n",
              "\n",
              "    .dataframe tbody tr th {\n",
              "        vertical-align: top;\n",
              "    }\n",
              "\n",
              "    .dataframe thead th {\n",
              "        text-align: right;\n",
              "    }\n",
              "</style>\n",
              "<table border=\"1\" class=\"dataframe\">\n",
              "  <thead>\n",
              "    <tr style=\"text-align: right;\">\n",
              "      <th></th>\n",
              "      <th>birds</th>\n",
              "      <th>age</th>\n",
              "      <th>visits</th>\n",
              "      <th>priority</th>\n",
              "    </tr>\n",
              "  </thead>\n",
              "  <tbody>\n",
              "    <tr>\n",
              "      <th>0</th>\n",
              "      <td>trumpeters</td>\n",
              "      <td>3.5</td>\n",
              "      <td>2</td>\n",
              "      <td>1</td>\n",
              "    </tr>\n",
              "    <tr>\n",
              "      <th>1</th>\n",
              "      <td>trumpeters</td>\n",
              "      <td>4.0</td>\n",
              "      <td>4</td>\n",
              "      <td>1</td>\n",
              "    </tr>\n",
              "    <tr>\n",
              "      <th>2</th>\n",
              "      <td>plovers</td>\n",
              "      <td>1.5</td>\n",
              "      <td>3</td>\n",
              "      <td>0</td>\n",
              "    </tr>\n",
              "    <tr>\n",
              "      <th>3</th>\n",
              "      <td>spoonbills</td>\n",
              "      <td>NaN</td>\n",
              "      <td>4</td>\n",
              "      <td>1</td>\n",
              "    </tr>\n",
              "    <tr>\n",
              "      <th>4</th>\n",
              "      <td>spoonbills</td>\n",
              "      <td>6.0</td>\n",
              "      <td>3</td>\n",
              "      <td>0</td>\n",
              "    </tr>\n",
              "    <tr>\n",
              "      <th>5</th>\n",
              "      <td>trumpeters</td>\n",
              "      <td>3.0</td>\n",
              "      <td>4</td>\n",
              "      <td>0</td>\n",
              "    </tr>\n",
              "    <tr>\n",
              "      <th>6</th>\n",
              "      <td>plovers</td>\n",
              "      <td>5.5</td>\n",
              "      <td>2</td>\n",
              "      <td>0</td>\n",
              "    </tr>\n",
              "    <tr>\n",
              "      <th>7</th>\n",
              "      <td>trumpeters</td>\n",
              "      <td>NaN</td>\n",
              "      <td>2</td>\n",
              "      <td>1</td>\n",
              "    </tr>\n",
              "    <tr>\n",
              "      <th>8</th>\n",
              "      <td>spoonbills</td>\n",
              "      <td>8.0</td>\n",
              "      <td>3</td>\n",
              "      <td>0</td>\n",
              "    </tr>\n",
              "    <tr>\n",
              "      <th>9</th>\n",
              "      <td>spoonbills</td>\n",
              "      <td>4.0</td>\n",
              "      <td>2</td>\n",
              "      <td>0</td>\n",
              "    </tr>\n",
              "  </tbody>\n",
              "</table>\n",
              "</div>"
            ],
            "text/plain": [
              "        birds  age  visits  priority\n",
              "0  trumpeters  3.5       2         1\n",
              "1  trumpeters  4.0       4         1\n",
              "2     plovers  1.5       3         0\n",
              "3  spoonbills  NaN       4         1\n",
              "4  spoonbills  6.0       3         0\n",
              "5  trumpeters  3.0       4         0\n",
              "6     plovers  5.5       2         0\n",
              "7  trumpeters  NaN       2         1\n",
              "8  spoonbills  8.0       3         0\n",
              "9  spoonbills  4.0       2         0"
            ]
          },
          "metadata": {
            "tags": []
          },
          "execution_count": 168
        }
      ]
    }
  ]
}